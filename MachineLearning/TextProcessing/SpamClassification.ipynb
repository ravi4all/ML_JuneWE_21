{
 "cells": [
  {
   "cell_type": "code",
   "execution_count": 1,
   "metadata": {},
   "outputs": [],
   "source": [
    "import os"
   ]
  },
  {
   "cell_type": "code",
   "execution_count": 21,
   "metadata": {},
   "outputs": [],
   "source": [
    "file = open('emails/ham/00005.bf27cdeaf0b8c4647ecd61b1d09da613')\n",
    "data = file.readlines()\n",
    "file.close()"
   ]
  },
  {
   "cell_type": "code",
   "execution_count": 22,
   "metadata": {},
   "outputs": [],
   "source": [
    "# data"
   ]
  },
  {
   "cell_type": "code",
   "execution_count": 23,
   "metadata": {},
   "outputs": [],
   "source": [
    "body = False\n",
    "d = []\n",
    "for line in data:\n",
    "    if '--' not in line:\n",
    "        if line == '\\n':\n",
    "            body = True\n",
    "    else:\n",
    "        body = False\n",
    "    if body:\n",
    "        d.append(line)"
   ]
  },
  {
   "cell_type": "code",
   "execution_count": 24,
   "metadata": {},
   "outputs": [
    {
     "data": {
      "text/plain": [
       "['\\n',\n",
       " '>  in adding cream to spaghetti carbonara, which has the same effect on pasta as\\n',\n",
       " '>  making a pizza a deep-pie; \\n',\n",
       " '\\n',\n",
       " 'I just had to jump in here as Carbonara is one of my favourites to make and ask \\n',\n",
       " \"what the hell are you supposed to use instead of cream?  I've never seen a \\n\",\n",
       " \"recipe that hasn't used this.  Personally I use low fat creme fraiche because it \\n\",\n",
       " \"works quite nicely but the only time I've seen an supposedly authentic recipe \\n\",\n",
       " 'for carbonara  it was identical to mine (cream, eggs and lots of fresh parmesan) \\n',\n",
       " 'except for the creme fraiche.\\n',\n",
       " '\\n',\n",
       " 'Stew\\n',\n",
       " '\\n',\n",
       " '\\n',\n",
       " '\\n',\n",
       " 'To unsubscribe from this group, send an email to:\\n',\n",
       " 'forteana-unsubscribe@egroups.com\\n',\n",
       " '\\n',\n",
       " ' \\n',\n",
       " '\\n',\n",
       " 'Your use of Yahoo! Groups is subject to http://docs.yahoo.com/info/terms/ \\n',\n",
       " '\\n',\n",
       " '\\n',\n",
       " '\\n']"
      ]
     },
     "execution_count": 24,
     "metadata": {},
     "output_type": "execute_result"
    }
   ],
   "source": [
    "d"
   ]
  },
  {
   "cell_type": "code",
   "execution_count": null,
   "metadata": {},
   "outputs": [],
   "source": []
  }
 ],
 "metadata": {
  "kernelspec": {
   "display_name": "Python 3",
   "language": "python",
   "name": "python3"
  },
  "language_info": {
   "codemirror_mode": {
    "name": "ipython",
    "version": 3
   },
   "file_extension": ".py",
   "mimetype": "text/x-python",
   "name": "python",
   "nbconvert_exporter": "python",
   "pygments_lexer": "ipython3",
   "version": "3.8.5"
  }
 },
 "nbformat": 4,
 "nbformat_minor": 4
}
