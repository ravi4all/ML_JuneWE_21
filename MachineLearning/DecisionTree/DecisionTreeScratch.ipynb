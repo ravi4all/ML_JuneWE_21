{
 "cells": [
  {
   "cell_type": "code",
   "execution_count": 1,
   "metadata": {},
   "outputs": [],
   "source": [
    "import numpy as np\n",
    "import pandas as pd"
   ]
  },
  {
   "cell_type": "code",
   "execution_count": 2,
   "metadata": {},
   "outputs": [],
   "source": [
    "data = {\n",
    "    \"outlook\" : ['sunny','sunny','overcast','rainy','rainy','rainy','overcast','sunny','sunny','rainy','sunny','overcast','overcast','rainy'],\n",
    "    \"temp\" : ['hot','hot','hot','mild','cool','cool','cool','mild','cool','mild','mild','mild','hot','mild'],\n",
    "    'humidity' : ['high','high','high','high','normal','normal','normal','high','normal','normal','normal','high','normal','high'],\n",
    "    'windy' : ['false','true','false','false','false','true','true','false','false','false','true','true','false','true'],\n",
    "    'play' : ['no','no','yes','yes','yes','no','yes','no','yes','yes','yes','yes','yes','no']\n",
    "}"
   ]
  },
  {
   "cell_type": "code",
   "execution_count": 3,
   "metadata": {},
   "outputs": [],
   "source": [
    "df = pd.DataFrame(data)"
   ]
  },
  {
   "cell_type": "code",
   "execution_count": 5,
   "metadata": {},
   "outputs": [],
   "source": [
    "def calc_avg(df, feature):\n",
    "    variables = pd.unique(df[feature])\n",
    "    target_values = pd.unique(df['play'])\n",
    "    avg = 0\n",
    "    for var in variables:\n",
    "        entropy = 0\n",
    "        for target in target_values:\n",
    "            x = len(df[df[feature] == var][df['play'] == target][feature])\n",
    "            y = len(df[df[feature] == var][feature])\n",
    "            e = x / (y + np.finfo(float).eps)\n",
    "            entropy += -e * np.log2(e + np.finfo(float).eps)\n",
    "        attr = y / len(df)\n",
    "        avg += attr * entropy\n",
    "    return avg\n",
    "\n",
    "def calc_entropy():\n",
    "    values = pd.unique(df['play'])\n",
    "    entropy = 0\n",
    "    n = len(df)\n",
    "    for value in values:\n",
    "        x = df['play'].value_counts()[value] / n\n",
    "        entropy += -x * np.log2(x)\n",
    "    return entropy\n",
    "\n",
    "def find_node(df):\n",
    "    entropy_attrs = {}\n",
    "    entropy = calc_entropy()\n",
    "    for i in range(len(df.columns) - 1):\n",
    "        entropy_attrs[df.columns[i]] = calc_avg(df, df.columns[i])\n",
    "    \n",
    "    gain = {}\n",
    "    for key in entropy_attrs:\n",
    "        gain[key] = entropy - entropy_attrs[key]\n",
    "        \n",
    "    node = max(gain, key=gain.get)\n",
    "    return node\n",
    "\n",
    "def dropData(df, node, value):\n",
    "    return df[df[node] == value].reset_index(drop=True)\n",
    "\n",
    "def buildTree(df, tree=None):\n",
    "    node = find_node(df)\n",
    "    \n",
    "    if tree is None:\n",
    "        tree = {}\n",
    "        tree[node] = {}\n",
    "        \n",
    "    values = df[node].unique()\n",
    "    \n",
    "    for val in values:\n",
    "        sub_df = dropData(df, node, val)\n",
    "        target, count = np.unique(sub_df['play'], return_counts = True)\n",
    "        #target = array['no','yes'], count = array([2,3])\n",
    "        #target = array[yes'], count = array([4])\n",
    "        if len(target) == 1:\n",
    "            tree[node][val] = target[0]\n",
    "        else:\n",
    "            tree[node][val] = buildTree(sub_df)\n",
    "    \n",
    "    return tree\n"
   ]
  },
  {
   "cell_type": "code",
   "execution_count": 6,
   "metadata": {},
   "outputs": [
    {
     "name": "stderr",
     "output_type": "stream",
     "text": [
      "<ipython-input-5-471a1d2ccbfc>:8: UserWarning: Boolean Series key will be reindexed to match DataFrame index.\n",
      "  x = len(df[df[feature] == var][df['play'] == target][feature])\n"
     ]
    },
    {
     "data": {
      "text/plain": [
       "{'outlook': {'sunny': {'humidity': {'high': 'no', 'normal': 'yes'}},\n",
       "  'overcast': 'yes',\n",
       "  'rainy': {'windy': {'false': 'yes', 'true': 'no'}}}}"
      ]
     },
     "execution_count": 6,
     "metadata": {},
     "output_type": "execute_result"
    }
   ],
   "source": [
    "buildTree(df)"
   ]
  },
  {
   "cell_type": "code",
   "execution_count": null,
   "metadata": {},
   "outputs": [],
   "source": []
  }
 ],
 "metadata": {
  "kernelspec": {
   "display_name": "Python 3",
   "language": "python",
   "name": "python3"
  },
  "language_info": {
   "codemirror_mode": {
    "name": "ipython",
    "version": 3
   },
   "file_extension": ".py",
   "mimetype": "text/x-python",
   "name": "python",
   "nbconvert_exporter": "python",
   "pygments_lexer": "ipython3",
   "version": "3.8.5"
  }
 },
 "nbformat": 4,
 "nbformat_minor": 4
}
