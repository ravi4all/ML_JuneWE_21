{
 "cells": [
  {
   "cell_type": "code",
   "execution_count": 2,
   "metadata": {},
   "outputs": [],
   "source": [
    "import pandas as pd\n",
    "import numpy as np\n",
    "from sklearn.tree import DecisionTreeClassifier"
   ]
  },
  {
   "cell_type": "code",
   "execution_count": 3,
   "metadata": {},
   "outputs": [],
   "source": [
    "df = pd.read_csv('test.csv')"
   ]
  },
  {
   "cell_type": "code",
   "execution_count": 4,
   "metadata": {},
   "outputs": [
    {
     "data": {
      "text/plain": [
       "(1543, 14)"
      ]
     },
     "execution_count": 4,
     "metadata": {},
     "output_type": "execute_result"
    }
   ],
   "source": [
    "df.shape"
   ]
  },
  {
   "cell_type": "code",
   "execution_count": 5,
   "metadata": {},
   "outputs": [
    {
     "data": {
      "text/html": [
       "<div>\n",
       "<style scoped>\n",
       "    .dataframe tbody tr th:only-of-type {\n",
       "        vertical-align: middle;\n",
       "    }\n",
       "\n",
       "    .dataframe tbody tr th {\n",
       "        vertical-align: top;\n",
       "    }\n",
       "\n",
       "    .dataframe thead th {\n",
       "        text-align: right;\n",
       "    }\n",
       "</style>\n",
       "<table border=\"1\" class=\"dataframe\">\n",
       "  <thead>\n",
       "    <tr style=\"text-align: right;\">\n",
       "      <th></th>\n",
       "      <th>Unnamed: 0</th>\n",
       "      <th>Noise_Type</th>\n",
       "      <th>Kurtosis_Wiener_R</th>\n",
       "      <th>Kurtosis_Wiener_G</th>\n",
       "      <th>Kurtosis_Wiener_B</th>\n",
       "      <th>Kurtosis_Median_R</th>\n",
       "      <th>Kurtosis_Median_G</th>\n",
       "      <th>Kurtosis_Median_B</th>\n",
       "      <th>Skewness_Wiener_R</th>\n",
       "      <th>Skewness_Wiener_G</th>\n",
       "      <th>Skewness_Wiener_B</th>\n",
       "      <th>Skewness_Median_R</th>\n",
       "      <th>Skewness_Median_G</th>\n",
       "      <th>Skewness_Median_B</th>\n",
       "    </tr>\n",
       "  </thead>\n",
       "  <tbody>\n",
       "    <tr>\n",
       "      <th>0</th>\n",
       "      <td>0</td>\n",
       "      <td>0</td>\n",
       "      <td>120.025080</td>\n",
       "      <td>104.714096</td>\n",
       "      <td>23530.396150</td>\n",
       "      <td>-0.796767</td>\n",
       "      <td>-0.756877</td>\n",
       "      <td>-0.820129</td>\n",
       "      <td>9.370390</td>\n",
       "      <td>9.108400</td>\n",
       "      <td>120.892357</td>\n",
       "      <td>1.096570</td>\n",
       "      <td>1.114617</td>\n",
       "      <td>1.085865</td>\n",
       "    </tr>\n",
       "    <tr>\n",
       "      <th>1</th>\n",
       "      <td>1</td>\n",
       "      <td>1</td>\n",
       "      <td>701.407858</td>\n",
       "      <td>95.357963</td>\n",
       "      <td>16640.059420</td>\n",
       "      <td>-1.967396</td>\n",
       "      <td>-1.959808</td>\n",
       "      <td>-1.964419</td>\n",
       "      <td>11.594759</td>\n",
       "      <td>3.723820</td>\n",
       "      <td>-24.471761</td>\n",
       "      <td>0.146629</td>\n",
       "      <td>0.170620</td>\n",
       "      <td>0.156315</td>\n",
       "    </tr>\n",
       "    <tr>\n",
       "      <th>2</th>\n",
       "      <td>2</td>\n",
       "      <td>2</td>\n",
       "      <td>54.019272</td>\n",
       "      <td>64.409904</td>\n",
       "      <td>4467.516343</td>\n",
       "      <td>-0.769179</td>\n",
       "      <td>-0.751846</td>\n",
       "      <td>-0.804841</td>\n",
       "      <td>2.000486</td>\n",
       "      <td>2.820191</td>\n",
       "      <td>29.343678</td>\n",
       "      <td>1.108827</td>\n",
       "      <td>1.116685</td>\n",
       "      <td>1.092648</td>\n",
       "    </tr>\n",
       "    <tr>\n",
       "      <th>3</th>\n",
       "      <td>3</td>\n",
       "      <td>3</td>\n",
       "      <td>860.223828</td>\n",
       "      <td>68.413944</td>\n",
       "      <td>50016.916960</td>\n",
       "      <td>-1.964378</td>\n",
       "      <td>-1.952882</td>\n",
       "      <td>-1.961414</td>\n",
       "      <td>-3.579559</td>\n",
       "      <td>2.981188</td>\n",
       "      <td>204.408161</td>\n",
       "      <td>0.143717</td>\n",
       "      <td>0.179517</td>\n",
       "      <td>0.152885</td>\n",
       "    </tr>\n",
       "    <tr>\n",
       "      <th>4</th>\n",
       "      <td>4</td>\n",
       "      <td>0</td>\n",
       "      <td>577.797058</td>\n",
       "      <td>365.522438</td>\n",
       "      <td>263.472054</td>\n",
       "      <td>-1.018860</td>\n",
       "      <td>-0.992899</td>\n",
       "      <td>-1.032402</td>\n",
       "      <td>17.070238</td>\n",
       "      <td>13.681494</td>\n",
       "      <td>11.777237</td>\n",
       "      <td>0.990264</td>\n",
       "      <td>1.003286</td>\n",
       "      <td>0.983400</td>\n",
       "    </tr>\n",
       "  </tbody>\n",
       "</table>\n",
       "</div>"
      ],
      "text/plain": [
       "   Unnamed: 0  Noise_Type  Kurtosis_Wiener_R  Kurtosis_Wiener_G  \\\n",
       "0           0           0         120.025080         104.714096   \n",
       "1           1           1         701.407858          95.357963   \n",
       "2           2           2          54.019272          64.409904   \n",
       "3           3           3         860.223828          68.413944   \n",
       "4           4           0         577.797058         365.522438   \n",
       "\n",
       "   Kurtosis_Wiener_B  Kurtosis_Median_R  Kurtosis_Median_G  Kurtosis_Median_B  \\\n",
       "0       23530.396150          -0.796767          -0.756877          -0.820129   \n",
       "1       16640.059420          -1.967396          -1.959808          -1.964419   \n",
       "2        4467.516343          -0.769179          -0.751846          -0.804841   \n",
       "3       50016.916960          -1.964378          -1.952882          -1.961414   \n",
       "4         263.472054          -1.018860          -0.992899          -1.032402   \n",
       "\n",
       "   Skewness_Wiener_R  Skewness_Wiener_G  Skewness_Wiener_B  Skewness_Median_R  \\\n",
       "0           9.370390           9.108400         120.892357           1.096570   \n",
       "1          11.594759           3.723820         -24.471761           0.146629   \n",
       "2           2.000486           2.820191          29.343678           1.108827   \n",
       "3          -3.579559           2.981188         204.408161           0.143717   \n",
       "4          17.070238          13.681494          11.777237           0.990264   \n",
       "\n",
       "   Skewness_Median_G  Skewness_Median_B  \n",
       "0           1.114617           1.085865  \n",
       "1           0.170620           0.156315  \n",
       "2           1.116685           1.092648  \n",
       "3           0.179517           0.152885  \n",
       "4           1.003286           0.983400  "
      ]
     },
     "execution_count": 5,
     "metadata": {},
     "output_type": "execute_result"
    }
   ],
   "source": [
    "df.head()"
   ]
  },
  {
   "cell_type": "code",
   "execution_count": 16,
   "metadata": {},
   "outputs": [],
   "source": [
    "from sklearn.model_selection import train_test_split"
   ]
  },
  {
   "cell_type": "code",
   "execution_count": null,
   "metadata": {},
   "outputs": [],
   "source": []
  },
  {
   "cell_type": "code",
   "execution_count": 6,
   "metadata": {},
   "outputs": [],
   "source": [
    "from sklearn.ensemble import BaggingClassifier, RandomForestClassifier"
   ]
  },
  {
   "cell_type": "code",
   "execution_count": 7,
   "metadata": {},
   "outputs": [],
   "source": [
    "X = df.iloc[:, 2:]\n",
    "y = df.iloc[:, 1]"
   ]
  },
  {
   "cell_type": "code",
   "execution_count": 8,
   "metadata": {},
   "outputs": [],
   "source": [
    "from sklearn.preprocessing import StandardScaler"
   ]
  },
  {
   "cell_type": "code",
   "execution_count": 9,
   "metadata": {},
   "outputs": [],
   "source": [
    "sc = StandardScaler()\n",
    "X = sc.fit_transform(X)"
   ]
  },
  {
   "cell_type": "code",
   "execution_count": 17,
   "metadata": {},
   "outputs": [],
   "source": [
    "x_train, x_test, y_train, y_test = train_test_split(X,y,test_size=0.75)"
   ]
  },
  {
   "cell_type": "code",
   "execution_count": 39,
   "metadata": {},
   "outputs": [
    {
     "data": {
      "text/plain": [
       "RandomForestClassifier(criterion='entropy', n_estimators=500)"
      ]
     },
     "execution_count": 39,
     "metadata": {},
     "output_type": "execute_result"
    }
   ],
   "source": [
    "rf = RandomForestClassifier(n_estimators=500,criterion=\"entropy\")\n",
    "rf.fit(x_train, y_train)"
   ]
  },
  {
   "cell_type": "code",
   "execution_count": 40,
   "metadata": {},
   "outputs": [],
   "source": [
    "y_pred = rf.predict(x_test)"
   ]
  },
  {
   "cell_type": "code",
   "execution_count": 47,
   "metadata": {},
   "outputs": [
    {
     "data": {
      "text/plain": [
       "array([0.04014137, 0.04078093, 0.03118925, 0.10724942, 0.11898597,\n",
       "       0.11204209, 0.0754308 , 0.11086782, 0.05481017, 0.09718803,\n",
       "       0.10730012, 0.10401403])"
      ]
     },
     "execution_count": 47,
     "metadata": {},
     "output_type": "execute_result"
    }
   ],
   "source": [
    "rf.feature_importances_"
   ]
  },
  {
   "cell_type": "code",
   "execution_count": 41,
   "metadata": {},
   "outputs": [],
   "source": [
    "from sklearn.metrics import accuracy_score"
   ]
  },
  {
   "cell_type": "code",
   "execution_count": 42,
   "metadata": {},
   "outputs": [
    {
     "data": {
      "text/plain": [
       "0.9024179620034543"
      ]
     },
     "execution_count": 42,
     "metadata": {},
     "output_type": "execute_result"
    }
   ],
   "source": [
    "accuracy_score(y_test, y_pred)"
   ]
  },
  {
   "cell_type": "code",
   "execution_count": 45,
   "metadata": {},
   "outputs": [
    {
     "data": {
      "text/plain": [
       "BaggingClassifier(base_estimator=DecisionTreeClassifier())"
      ]
     },
     "execution_count": 45,
     "metadata": {},
     "output_type": "execute_result"
    }
   ],
   "source": [
    "tree = DecisionTreeClassifier()\n",
    "bagging = BaggingClassifier(tree)\n",
    "bagging.fit(x_train, y_train)"
   ]
  },
  {
   "cell_type": "code",
   "execution_count": 46,
   "metadata": {},
   "outputs": [
    {
     "data": {
      "text/plain": [
       "0.8842832469775475"
      ]
     },
     "execution_count": 46,
     "metadata": {},
     "output_type": "execute_result"
    }
   ],
   "source": [
    "y_pred = bagging.predict(x_test)\n",
    "accuracy_score(y_test, y_pred)"
   ]
  },
  {
   "cell_type": "code",
   "execution_count": 48,
   "metadata": {},
   "outputs": [
    {
     "data": {
      "text/plain": [
       "DecisionTreeClassifier()"
      ]
     },
     "execution_count": 48,
     "metadata": {},
     "output_type": "execute_result"
    }
   ],
   "source": [
    "dt = DecisionTreeClassifier()\n",
    "dt.fit(x_train, y_train)"
   ]
  },
  {
   "cell_type": "code",
   "execution_count": 49,
   "metadata": {},
   "outputs": [],
   "source": [
    "path = dt.cost_complexity_pruning_path(x_train, y_train)"
   ]
  },
  {
   "cell_type": "code",
   "execution_count": 50,
   "metadata": {},
   "outputs": [],
   "source": [
    "ccp = path['ccp_alphas']"
   ]
  },
  {
   "cell_type": "code",
   "execution_count": 51,
   "metadata": {},
   "outputs": [
    {
     "data": {
      "text/plain": [
       "array([0.        , 0.0023088 , 0.0024607 , 0.0025468 , 0.0025974 ,\n",
       "       0.00326268, 0.00442925, 0.0047619 , 0.00692641, 0.00762642,\n",
       "       0.0116342 , 0.01240822, 0.01689632, 0.01790925, 0.02099387,\n",
       "       0.03682266, 0.20148267, 0.23648654])"
      ]
     },
     "execution_count": 51,
     "metadata": {},
     "output_type": "execute_result"
    }
   ],
   "source": [
    "ccp"
   ]
  },
  {
   "cell_type": "code",
   "execution_count": 56,
   "metadata": {},
   "outputs": [],
   "source": [
    "train_acc = []\n",
    "test_acc = []\n",
    "\n",
    "for i in range(len(ccp)):\n",
    "    tree = RandomForestClassifier(criterion='entropy', ccp_alpha=ccp[i])\n",
    "    tree.fit(x_train, y_train)\n",
    "    y_pred_train = tree.predict(x_train)\n",
    "    y_pred_test = tree.predict(x_test)\n",
    "    \n",
    "    train_acc.append(accuracy_score(y_train, y_pred_train))\n",
    "    test_acc.append(accuracy_score(y_test, y_pred_test))"
   ]
  },
  {
   "cell_type": "code",
   "execution_count": 57,
   "metadata": {},
   "outputs": [
    {
     "data": {
      "text/plain": [
       "[0.8981001727115717,\n",
       " 0.9024179620034543,\n",
       " 0.9101899827288429,\n",
       " 0.8972366148531952,\n",
       " 0.9015544041450777,\n",
       " 0.9119170984455959,\n",
       " 0.9032815198618307,\n",
       " 0.9024179620034543,\n",
       " 0.9084628670120898,\n",
       " 0.9015544041450777,\n",
       " 0.9067357512953368,\n",
       " 0.9032815198618307,\n",
       " 0.9024179620034543,\n",
       " 0.9110535405872193,\n",
       " 0.8972366148531952,\n",
       " 0.8972366148531952,\n",
       " 0.7435233160621761,\n",
       " 0.7210708117443869]"
      ]
     },
     "execution_count": 57,
     "metadata": {},
     "output_type": "execute_result"
    }
   ],
   "source": [
    "test_acc"
   ]
  },
  {
   "cell_type": "code",
   "execution_count": null,
   "metadata": {},
   "outputs": [],
   "source": []
  }
 ],
 "metadata": {
  "kernelspec": {
   "display_name": "Python 3",
   "language": "python",
   "name": "python3"
  },
  "language_info": {
   "codemirror_mode": {
    "name": "ipython",
    "version": 3
   },
   "file_extension": ".py",
   "mimetype": "text/x-python",
   "name": "python",
   "nbconvert_exporter": "python",
   "pygments_lexer": "ipython3",
   "version": "3.8.5"
  }
 },
 "nbformat": 4,
 "nbformat_minor": 4
}
