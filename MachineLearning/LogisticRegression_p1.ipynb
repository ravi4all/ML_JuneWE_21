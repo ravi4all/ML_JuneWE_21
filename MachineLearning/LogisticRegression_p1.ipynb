{
 "cells": [
  {
   "cell_type": "code",
   "execution_count": 1,
   "metadata": {},
   "outputs": [],
   "source": [
    "import numpy as np"
   ]
  },
  {
   "cell_type": "code",
   "execution_count": 5,
   "metadata": {},
   "outputs": [],
   "source": [
    "def predict(coef,row):\n",
    "    x = coef[0]\n",
    "    for i in range(len(row) - 1):\n",
    "        x += coef[i + 1] * row[i]\n",
    "    return 1 / (1 + np.exp(-x))"
   ]
  },
  {
   "cell_type": "code",
   "execution_count": 6,
   "metadata": {},
   "outputs": [],
   "source": [
    "coef = [-0.406605464, 0.852573316, -1.104746259]\n",
    "\n",
    "dataset = [\n",
    "        [2.7810836,2.550537003,0],\n",
    "        [1.465489372,2.362125076,0],\n",
    "        [3.396561688,4.400293529,0],\n",
    "        [1.38807019,1.850220317,0],\n",
    "        [3.06407232,3.005305973,0],\n",
    "        [7.627531214,2.759262235,1],\n",
    "        [5.332441248,2.088626775,1],\n",
    "        [6.922596716,1.77106367,1],\n",
    "        [8.675418651,-0.242068655,1],\n",
    "        [7.673756466,3.508563011,1]\n",
    "    ]"
   ]
  },
  {
   "cell_type": "code",
   "execution_count": 9,
   "metadata": {},
   "outputs": [
    {
     "name": "stdout",
     "output_type": "stream",
     "text": [
      "Prediction :: 0.3 Actual :: 0\n",
      "Prediction :: 0.15 Actual :: 0\n",
      "Prediction :: 0.09 Actual :: 0\n",
      "Prediction :: 0.22 Actual :: 0\n",
      "Prediction :: 0.25 Actual :: 0\n",
      "Prediction :: 0.95 Actual :: 1\n",
      "Prediction :: 0.86 Actual :: 1\n",
      "Prediction :: 0.97 Actual :: 1\n",
      "Prediction :: 1.0 Actual :: 1\n",
      "Prediction :: 0.91 Actual :: 1\n"
     ]
    }
   ],
   "source": [
    "for row in dataset:\n",
    "    y_pred = predict(coef, row)\n",
    "    print(\"Prediction ::\", round(y_pred,2), \"Actual ::\",row[-1])"
   ]
  },
  {
   "cell_type": "code",
   "execution_count": null,
   "metadata": {},
   "outputs": [],
   "source": []
  }
 ],
 "metadata": {
  "kernelspec": {
   "display_name": "Python 3",
   "language": "python",
   "name": "python3"
  },
  "language_info": {
   "codemirror_mode": {
    "name": "ipython",
    "version": 3
   },
   "file_extension": ".py",
   "mimetype": "text/x-python",
   "name": "python",
   "nbconvert_exporter": "python",
   "pygments_lexer": "ipython3",
   "version": "3.8.5"
  }
 },
 "nbformat": 4,
 "nbformat_minor": 4
}
