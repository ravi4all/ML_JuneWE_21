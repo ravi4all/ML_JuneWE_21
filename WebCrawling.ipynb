{
 "cells": [
  {
   "cell_type": "code",
   "execution_count": 5,
   "metadata": {},
   "outputs": [],
   "source": [
    "import bs4\n",
    "# bs4 - beautiful soup\n",
    "import urllib.request as url"
   ]
  },
  {
   "cell_type": "code",
   "execution_count": 2,
   "metadata": {},
   "outputs": [],
   "source": [
    "# http request\n",
    "response = url.urlopen(\"https://www.flipkart.com/search?q=apple+mobiles\")\n",
    "# http response"
   ]
  },
  {
   "cell_type": "code",
   "execution_count": 4,
   "metadata": {},
   "outputs": [
    {
     "data": {
      "text/plain": [
       "<module 'urllib.request' from 'F:\\\\anaconda\\\\lib\\\\urllib\\\\request.py'>"
      ]
     },
     "execution_count": 4,
     "metadata": {},
     "output_type": "execute_result"
    }
   ],
   "source": [
    "url"
   ]
  },
  {
   "cell_type": "code",
   "execution_count": 6,
   "metadata": {},
   "outputs": [],
   "source": [
    "page = bs4.BeautifulSoup(response)"
   ]
  },
  {
   "cell_type": "code",
   "execution_count": 7,
   "metadata": {},
   "outputs": [
    {
     "data": {
      "text/plain": [
       "<div class=\"_4rR01T\">APPLE iPhone 11 (Black, 64 GB)</div>"
      ]
     },
     "execution_count": 7,
     "metadata": {},
     "output_type": "execute_result"
    }
   ],
   "source": [
    "page.find('div', class_='_4rR01T')"
   ]
  },
  {
   "cell_type": "code",
   "execution_count": 8,
   "metadata": {},
   "outputs": [],
   "source": [
    "title = page.find('div', class_='_4rR01T')"
   ]
  },
  {
   "cell_type": "code",
   "execution_count": 9,
   "metadata": {},
   "outputs": [
    {
     "data": {
      "text/plain": [
       "'APPLE iPhone 11 (Black, 64 GB)'"
      ]
     },
     "execution_count": 9,
     "metadata": {},
     "output_type": "execute_result"
    }
   ],
   "source": [
    "title.text"
   ]
  },
  {
   "cell_type": "code",
   "execution_count": 10,
   "metadata": {},
   "outputs": [],
   "source": [
    "titles = page.find_all('div', class_='_4rR01T')"
   ]
  },
  {
   "cell_type": "code",
   "execution_count": 12,
   "metadata": {},
   "outputs": [
    {
     "name": "stdout",
     "output_type": "stream",
     "text": [
      "APPLE iPhone 11 (Black, 64 GB)\n",
      "Apple iPhone XR (White, 128 GB) (Includes EarPods, Power Adapter)\n",
      "Apple iPhone XR (Black, 128 GB) (Includes EarPods, Power Adapter)\n",
      "APPLE iPhone SE (Black, 64 GB)\n",
      "APPLE iPhone SE (Black, 128 GB)\n",
      "APPLE iPhone SE (White, 128 GB)\n",
      "APPLE iPhone 11 (Red, 64 GB)\n",
      "APPLE iPhone SE (Red, 128 GB)\n",
      "APPLE iPhone SE (White, 64 GB)\n",
      "APPLE iPhone SE (Red, 64 GB)\n",
      "APPLE iPhone 12 (Black, 128 GB)\n",
      "Apple iPhone XR ((PRODUCT)RED, 64 GB) (Includes EarPods, Power Adapter)\n",
      "Apple iPhone XR (White, 64 GB) (Includes EarPods, Power Adapter)\n",
      "APPLE iPhone 12 (White, 128 GB)\n",
      "APPLE iPhone 12 (Blue, 64 GB)\n",
      "APPLE iPhone 12 (Green, 128 GB)\n",
      "APPLE iPhone XR (Black, 64 GB)\n",
      "APPLE iPhone 12 (Blue, 128 GB)\n",
      "Apple iPhone XR (Black, 64 GB) (Includes EarPods, Power Adapter)\n",
      "APPLE iPhone 12 Pro (Pacific Blue, 256 GB)\n",
      "Apple iPhone XR (Blue, 64 GB) (Includes EarPods, Power Adapter)\n",
      "APPLE iPhone 12 Mini (Black, 128 GB)\n",
      "APPLE iPhone 11 Pro (Midnight Green, 64 GB)\n",
      "APPLE iPhone 11 (Purple, 64 GB)\n"
     ]
    }
   ],
   "source": [
    "for title in titles:\n",
    "    print(title.text)"
   ]
  },
  {
   "cell_type": "code",
   "execution_count": 13,
   "metadata": {},
   "outputs": [],
   "source": [
    "price_list = page.find_all('div', class_='_30jeq3 _1_WHN1')"
   ]
  },
  {
   "cell_type": "code",
   "execution_count": 14,
   "metadata": {},
   "outputs": [],
   "source": [
    "data = {\"Product Name\" : [], \"Product Price\" : []}\n",
    "\n",
    "for i in range(len(price_list)):\n",
    "    data['Product Name'].append(titles[i].text)\n",
    "    data['Product Price'].append(price_list[i].text)"
   ]
  },
  {
   "cell_type": "code",
   "execution_count": 16,
   "metadata": {},
   "outputs": [],
   "source": [
    "# data"
   ]
  },
  {
   "cell_type": "code",
   "execution_count": 17,
   "metadata": {},
   "outputs": [],
   "source": [
    "import pandas as pd"
   ]
  },
  {
   "cell_type": "code",
   "execution_count": 18,
   "metadata": {},
   "outputs": [],
   "source": [
    "df = pd.DataFrame(data)"
   ]
  },
  {
   "cell_type": "code",
   "execution_count": 19,
   "metadata": {},
   "outputs": [
    {
     "data": {
      "text/html": [
       "<div>\n",
       "<style scoped>\n",
       "    .dataframe tbody tr th:only-of-type {\n",
       "        vertical-align: middle;\n",
       "    }\n",
       "\n",
       "    .dataframe tbody tr th {\n",
       "        vertical-align: top;\n",
       "    }\n",
       "\n",
       "    .dataframe thead th {\n",
       "        text-align: right;\n",
       "    }\n",
       "</style>\n",
       "<table border=\"1\" class=\"dataframe\">\n",
       "  <thead>\n",
       "    <tr style=\"text-align: right;\">\n",
       "      <th></th>\n",
       "      <th>Product Name</th>\n",
       "      <th>Product Price</th>\n",
       "    </tr>\n",
       "  </thead>\n",
       "  <tbody>\n",
       "    <tr>\n",
       "      <th>0</th>\n",
       "      <td>APPLE iPhone 11 (Black, 64 GB)</td>\n",
       "      <td>₹49,999</td>\n",
       "    </tr>\n",
       "    <tr>\n",
       "      <th>1</th>\n",
       "      <td>Apple iPhone XR (White, 128 GB) (Includes EarP...</td>\n",
       "      <td>₹42,999</td>\n",
       "    </tr>\n",
       "    <tr>\n",
       "      <th>2</th>\n",
       "      <td>Apple iPhone XR (Black, 128 GB) (Includes EarP...</td>\n",
       "      <td>₹42,999</td>\n",
       "    </tr>\n",
       "    <tr>\n",
       "      <th>3</th>\n",
       "      <td>APPLE iPhone SE (Black, 64 GB)</td>\n",
       "      <td>₹31,999</td>\n",
       "    </tr>\n",
       "    <tr>\n",
       "      <th>4</th>\n",
       "      <td>APPLE iPhone SE (Black, 128 GB)</td>\n",
       "      <td>₹34,999</td>\n",
       "    </tr>\n",
       "    <tr>\n",
       "      <th>5</th>\n",
       "      <td>APPLE iPhone SE (White, 128 GB)</td>\n",
       "      <td>₹34,999</td>\n",
       "    </tr>\n",
       "    <tr>\n",
       "      <th>6</th>\n",
       "      <td>APPLE iPhone 11 (Red, 64 GB)</td>\n",
       "      <td>₹49,999</td>\n",
       "    </tr>\n",
       "    <tr>\n",
       "      <th>7</th>\n",
       "      <td>APPLE iPhone SE (Red, 128 GB)</td>\n",
       "      <td>₹34,999</td>\n",
       "    </tr>\n",
       "    <tr>\n",
       "      <th>8</th>\n",
       "      <td>APPLE iPhone SE (White, 64 GB)</td>\n",
       "      <td>₹31,999</td>\n",
       "    </tr>\n",
       "    <tr>\n",
       "      <th>9</th>\n",
       "      <td>APPLE iPhone SE (Red, 64 GB)</td>\n",
       "      <td>₹31,999</td>\n",
       "    </tr>\n",
       "    <tr>\n",
       "      <th>10</th>\n",
       "      <td>APPLE iPhone 12 (Black, 128 GB)</td>\n",
       "      <td>₹82,900</td>\n",
       "    </tr>\n",
       "    <tr>\n",
       "      <th>11</th>\n",
       "      <td>Apple iPhone XR ((PRODUCT)RED, 64 GB) (Include...</td>\n",
       "      <td>₹39,999</td>\n",
       "    </tr>\n",
       "    <tr>\n",
       "      <th>12</th>\n",
       "      <td>Apple iPhone XR (White, 64 GB) (Includes EarPo...</td>\n",
       "      <td>₹39,999</td>\n",
       "    </tr>\n",
       "    <tr>\n",
       "      <th>13</th>\n",
       "      <td>APPLE iPhone 12 (White, 128 GB)</td>\n",
       "      <td>₹82,900</td>\n",
       "    </tr>\n",
       "    <tr>\n",
       "      <th>14</th>\n",
       "      <td>APPLE iPhone 12 (Blue, 64 GB)</td>\n",
       "      <td>₹77,900</td>\n",
       "    </tr>\n",
       "    <tr>\n",
       "      <th>15</th>\n",
       "      <td>APPLE iPhone 12 (Green, 128 GB)</td>\n",
       "      <td>₹82,900</td>\n",
       "    </tr>\n",
       "    <tr>\n",
       "      <th>16</th>\n",
       "      <td>APPLE iPhone XR (Black, 64 GB)</td>\n",
       "      <td>₹39,999</td>\n",
       "    </tr>\n",
       "    <tr>\n",
       "      <th>17</th>\n",
       "      <td>APPLE iPhone 12 (Blue, 128 GB)</td>\n",
       "      <td>₹82,900</td>\n",
       "    </tr>\n",
       "    <tr>\n",
       "      <th>18</th>\n",
       "      <td>Apple iPhone XR (Black, 64 GB) (Includes EarPo...</td>\n",
       "      <td>₹39,999</td>\n",
       "    </tr>\n",
       "    <tr>\n",
       "      <th>19</th>\n",
       "      <td>APPLE iPhone 12 Pro (Pacific Blue, 256 GB)</td>\n",
       "      <td>₹1,25,900</td>\n",
       "    </tr>\n",
       "    <tr>\n",
       "      <th>20</th>\n",
       "      <td>Apple iPhone XR (Blue, 64 GB) (Includes EarPod...</td>\n",
       "      <td>₹39,999</td>\n",
       "    </tr>\n",
       "    <tr>\n",
       "      <th>21</th>\n",
       "      <td>APPLE iPhone 12 Mini (Black, 128 GB)</td>\n",
       "      <td>₹72,900</td>\n",
       "    </tr>\n",
       "    <tr>\n",
       "      <th>22</th>\n",
       "      <td>APPLE iPhone 11 Pro (Midnight Green, 64 GB)</td>\n",
       "      <td>₹74,999</td>\n",
       "    </tr>\n",
       "    <tr>\n",
       "      <th>23</th>\n",
       "      <td>APPLE iPhone 11 (Purple, 64 GB)</td>\n",
       "      <td>₹49,999</td>\n",
       "    </tr>\n",
       "  </tbody>\n",
       "</table>\n",
       "</div>"
      ],
      "text/plain": [
       "                                         Product Name Product Price\n",
       "0                      APPLE iPhone 11 (Black, 64 GB)       ₹49,999\n",
       "1   Apple iPhone XR (White, 128 GB) (Includes EarP...       ₹42,999\n",
       "2   Apple iPhone XR (Black, 128 GB) (Includes EarP...       ₹42,999\n",
       "3                      APPLE iPhone SE (Black, 64 GB)       ₹31,999\n",
       "4                     APPLE iPhone SE (Black, 128 GB)       ₹34,999\n",
       "5                     APPLE iPhone SE (White, 128 GB)       ₹34,999\n",
       "6                        APPLE iPhone 11 (Red, 64 GB)       ₹49,999\n",
       "7                       APPLE iPhone SE (Red, 128 GB)       ₹34,999\n",
       "8                      APPLE iPhone SE (White, 64 GB)       ₹31,999\n",
       "9                        APPLE iPhone SE (Red, 64 GB)       ₹31,999\n",
       "10                    APPLE iPhone 12 (Black, 128 GB)       ₹82,900\n",
       "11  Apple iPhone XR ((PRODUCT)RED, 64 GB) (Include...       ₹39,999\n",
       "12  Apple iPhone XR (White, 64 GB) (Includes EarPo...       ₹39,999\n",
       "13                    APPLE iPhone 12 (White, 128 GB)       ₹82,900\n",
       "14                      APPLE iPhone 12 (Blue, 64 GB)       ₹77,900\n",
       "15                    APPLE iPhone 12 (Green, 128 GB)       ₹82,900\n",
       "16                     APPLE iPhone XR (Black, 64 GB)       ₹39,999\n",
       "17                     APPLE iPhone 12 (Blue, 128 GB)       ₹82,900\n",
       "18  Apple iPhone XR (Black, 64 GB) (Includes EarPo...       ₹39,999\n",
       "19         APPLE iPhone 12 Pro (Pacific Blue, 256 GB)     ₹1,25,900\n",
       "20  Apple iPhone XR (Blue, 64 GB) (Includes EarPod...       ₹39,999\n",
       "21               APPLE iPhone 12 Mini (Black, 128 GB)       ₹72,900\n",
       "22        APPLE iPhone 11 Pro (Midnight Green, 64 GB)       ₹74,999\n",
       "23                    APPLE iPhone 11 (Purple, 64 GB)       ₹49,999"
      ]
     },
     "execution_count": 19,
     "metadata": {},
     "output_type": "execute_result"
    }
   ],
   "source": [
    "df"
   ]
  },
  {
   "cell_type": "code",
   "execution_count": null,
   "metadata": {},
   "outputs": [],
   "source": []
  }
 ],
 "metadata": {
  "kernelspec": {
   "display_name": "Python 3",
   "language": "python",
   "name": "python3"
  },
  "language_info": {
   "codemirror_mode": {
    "name": "ipython",
    "version": 3
   },
   "file_extension": ".py",
   "mimetype": "text/x-python",
   "name": "python",
   "nbconvert_exporter": "python",
   "pygments_lexer": "ipython3",
   "version": "3.8.5"
  }
 },
 "nbformat": 4,
 "nbformat_minor": 4
}
